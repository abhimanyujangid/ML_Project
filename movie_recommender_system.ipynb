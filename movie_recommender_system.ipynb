{
  "nbformat": 4,
  "nbformat_minor": 0,
  "metadata": {
    "colab": {
      "provenance": [],
      "authorship_tag": "ABX9TyOi0guQ7lj2gW8b4yYLQ+gq",
      "include_colab_link": true
    },
    "kernelspec": {
      "name": "python3",
      "display_name": "Python 3"
    },
    "language_info": {
      "name": "python"
    }
  },
  "cells": [
    {
      "cell_type": "markdown",
      "metadata": {
        "id": "view-in-github",
        "colab_type": "text"
      },
      "source": [
        "<a href=\"https://colab.research.google.com/github/abhimanyujangid/ML_Project/blob/main/movie_recommender_system.ipynb\" target=\"_parent\"><img src=\"https://colab.research.google.com/assets/colab-badge.svg\" alt=\"Open In Colab\"/></a>"
      ]
    },
    {
      "cell_type": "markdown",
      "source": [
        "#Workflow:\n",
        "* Data --> preprocessing --> apply model --> devlop a wesite --> deploy\n",
        "\n",
        "It contain 4 stage.\n",
        "\n"
      ],
      "metadata": {
        "id": "Ap8UKPhW2Q9n"
      }
    },
    {
      "cell_type": "markdown",
      "source": [
        "# Dataset use:\n",
        "* tmdb_5000_credits.csv\n",
        "* tmdb_5000_movie.csv"
      ],
      "metadata": {
        "id": "xnQFWNSB2_SF"
      }
    },
    {
      "cell_type": "code",
      "source": [],
      "metadata": {
        "id": "mjFaEuPk2rBA"
      },
      "execution_count": null,
      "outputs": []
    }
  ]
}