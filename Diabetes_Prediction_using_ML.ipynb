{
  "nbformat": 4,
  "nbformat_minor": 0,
  "metadata": {
    "colab": {
      "provenance": [],
      "authorship_tag": "ABX9TyNEqnNhFds5rA6gcVBK9xUJ",
      "include_colab_link": true
    },
    "kernelspec": {
      "name": "python3",
      "display_name": "Python 3"
    },
    "language_info": {
      "name": "python"
    }
  },
  "cells": [
    {
      "cell_type": "markdown",
      "metadata": {
        "id": "view-in-github",
        "colab_type": "text"
      },
      "source": [
        "<a href=\"https://colab.research.google.com/github/abhimanyujangid/ML_Project/blob/main/Diabetes_Prediction_using_ML.ipynb\" target=\"_parent\"><img src=\"https://colab.research.google.com/assets/colab-badge.svg\" alt=\"Open In Colab\"/></a>"
      ]
    },
    {
      "cell_type": "markdown",
      "source": [
        "# Workflow:\n",
        "* Diabetes data >> Data processing >> Train test split >> Support vector machine classifier\n",
        "\n",
        "*  New data >> Trained support vector machine classifier >> Diabetic or Non-diabetic"
      ],
      "metadata": {
        "id": "8i123Hudt2-q"
      }
    },
    {
      "cell_type": "markdown",
      "source": [
        "# importing the Dependencies"
      ],
      "metadata": {
        "id": "vzy6yAMvyjbh"
      }
    },
    {
      "cell_type": "code",
      "execution_count": 3,
      "metadata": {
        "id": "lHUydCeGtqMl"
      },
      "outputs": [],
      "source": [
        "import numpy as np\n",
        "import pandas as pd\n",
        "from sklearn.preprocessing import StandardScaler\n",
        "from sklearn.model_selection import train_test_split  # Corrected typo\n",
        "from sklearn import svm  # Support vector machine\n",
        "from sklearn.metrics import accuracy_score"
      ]
    },
    {
      "cell_type": "markdown",
      "source": [
        "Data Collection and Analysis"
      ],
      "metadata": {
        "id": "EJTA-YaW0KAz"
      }
    },
    {
      "cell_type": "code",
      "source": [
        "#import dataframe\n",
        "diabetes_df = pd.read_csv('/content/diabetes (1).csv')"
      ],
      "metadata": {
        "id": "ZdIUZJrv0o-d"
      },
      "execution_count": 4,
      "outputs": []
    },
    {
      "cell_type": "code",
      "source": [],
      "metadata": {
        "id": "bfGnjng_1K77"
      },
      "execution_count": null,
      "outputs": []
    }
  ]
}